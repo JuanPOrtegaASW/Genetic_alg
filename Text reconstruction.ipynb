{
 "cells": [
  {
   "cell_type": "code",
   "execution_count": 557,
   "metadata": {},
   "outputs": [],
   "source": [
    "import numpy as np"
   ]
  },
  {
   "attachments": {},
   "cell_type": "markdown",
   "metadata": {},
   "source": [
    "# Text reconstruction"
   ]
  },
  {
   "cell_type": "code",
   "execution_count": 558,
   "metadata": {},
   "outputs": [],
   "source": [
    "P_min = 0\n",
    "P_max = 1114111\n",
    "#num_of_bits = np.floor(np.log2(P_max-P_min)) + 1\n",
    "num_of_bits = 7\n",
    "num_of_crm = 20\n",
    "p_cross = 1.0\n",
    "p_mutation = 0.0\n",
    "epsilon = 0.0001\n",
    "max_gen = 10000\n",
    "cadena = 'Hello world'\n",
    "crm_len = len(cadena)*int(num_of_bits)\n",
    "elite_places = 0"
   ]
  },
  {
   "attachments": {},
   "cell_type": "markdown",
   "metadata": {},
   "source": [
    "## Functions"
   ]
  },
  {
   "cell_type": "code",
   "execution_count": 559,
   "metadata": {},
   "outputs": [
    {
     "name": "stdout",
     "output_type": "stream",
     "text": [
      "''Hello world'' in binary is \n",
      "[1001000, 1100101, 1101100, 1101100, 1101111, 100000, 1110111, 1101111, 1110010, 1101100, 1100100, 1100001, 1000001, 1100010, 1000010, 1001001111]\n"
     ]
    }
   ],
   "source": [
    "def toBinary(string):\n",
    "  l,m=[],[]\n",
    "  for i in string:\n",
    "    l.append(ord(i))\n",
    "  for i in l:\n",
    "    m.append(int(bin(i)[2:]))\n",
    "  return m\n",
    "\n",
    "print(\"''Hello world'' in binary is \") \n",
    "print(toBinary(\"Hello worldaAbBɏ\"))"
   ]
  },
  {
   "cell_type": "code",
   "execution_count": 560,
   "metadata": {},
   "outputs": [],
   "source": [
    "def list_to_string(s):\n",
    " \n",
    "    # initialization of string to \"\"\n",
    "    new = \"\"\n",
    " \n",
    "    # traverse in the string\n",
    "    for x in s:\n",
    "        new += x\n",
    " \n",
    "    # return string\n",
    "    return new"
   ]
  },
  {
   "cell_type": "code",
   "execution_count": 561,
   "metadata": {},
   "outputs": [],
   "source": [
    "def decode(chromosome):\n",
    "    str_crm = str(chromosome)\n",
    "    str_crm = str_crm.replace(' ','').replace('[','').replace(']','').replace(',','').replace('\\n','')\n",
    "    list_of_letters = []\n",
    "    for i in np.arange(0,len(cadena)):\n",
    "        list_of_letters.append(chr(int(str_crm[i*num_of_bits:(i+1)*num_of_bits],2)))\n",
    "    return list_to_string(list_of_letters)"
   ]
  },
  {
   "cell_type": "code",
   "execution_count": 562,
   "metadata": {},
   "outputs": [],
   "source": [
    "def f_coded(chromosome):\n",
    "    fitness = 0\n",
    "    candidate_string = decode(chromosome)\n",
    "    for i in np.arange(0,len(candidate_string)):\n",
    "        if candidate_string[i] == cadena[i]:\n",
    "            fitness += 1\n",
    "    return fitness "
   ]
  },
  {
   "cell_type": "code",
   "execution_count": 563,
   "metadata": {},
   "outputs": [
    {
     "name": "stdout",
     "output_type": "stream",
     "text": [
      "(77,)\n"
     ]
    }
   ],
   "source": [
    "def init_population():\n",
    "        ind = np.random.randint(0, high=2, size=(num_of_crm,crm_len), dtype='l')\n",
    "        return list(ind) \n",
    "i = init_population()\n",
    "print(i[2].shape)"
   ]
  },
  {
   "cell_type": "code",
   "execution_count": 564,
   "metadata": {},
   "outputs": [],
   "source": [
    "def fitness_of_population(ind):\n",
    "    fitness = []\n",
    "    for i in np.arange(0,len(ind)):\n",
    "        fitness.append(f_coded(ind[i]))\n",
    "    #print(fitness_of_population)\n",
    "    return fitness"
   ]
  },
  {
   "cell_type": "code",
   "execution_count": 565,
   "metadata": {},
   "outputs": [],
   "source": [
    "def roulette(ind):\n",
    "    selected = []\n",
    "    fitness_of_pop = fitness_of_population(ind)\n",
    "    probs = [i/sum(fitness_of_pop) for i in fitness_of_pop]\n",
    "    #print(probs)\n",
    "    selected_idx = list(np.random.choice(np.arange(0,len(ind)),size=2,replace=True,p=probs))\n",
    "    #print(probs[selected_idx[0]],probs[selected_idx[1]])\n",
    "    selected.append(ind[selected_idx[0]])\n",
    "    selected.append(ind[selected_idx[1]])\n",
    "    return selected"
   ]
  },
  {
   "cell_type": "code",
   "execution_count": 566,
   "metadata": {},
   "outputs": [],
   "source": [
    "def cross(ind):\n",
    "    next_gen = []\n",
    "    fitness_of_pop = fitness_of_population(ind)\n",
    "    idx_elite = np.argpartition(fitness_of_pop, elite_places)[:elite_places]\n",
    "    for i in np.arange(0,elite_places):\n",
    "        idx = ind[idx_elite[i]]\n",
    "        next_gen.append(idx)\n",
    "    while len(next_gen) < num_of_crm :\n",
    "        male, female = roulette(ind)\n",
    "        female = list(female)\n",
    "        male = list(male)\n",
    "        did_they_cross = np.random.rand()\n",
    "        if did_they_cross < p_cross:\n",
    "            c = np.random.randint(1,crm_len-1)\n",
    "            daughter = female[0:c] + male[c:]\n",
    "            son      = male[0:c] + female[c:]\n",
    "            next_gen.append(np.array(daughter))\n",
    "            next_gen.append(np.array(son))\n",
    "        else:\n",
    "            next_gen.append(male)\n",
    "            next_gen.append(female)\n",
    "    return next_gen"
   ]
  },
  {
   "cell_type": "code",
   "execution_count": 567,
   "metadata": {},
   "outputs": [],
   "source": [
    "def mutate(ind):\n",
    "    does_it_mutate = np.random.rand(len(ind),crm_len)\n",
    "    does_it_mutate = (does_it_mutate < p_mutation)\n",
    "    subjects = np.mod(does_it_mutate + ind, 2)\n",
    "    return subjects"
   ]
  },
  {
   "cell_type": "code",
   "execution_count": 568,
   "metadata": {},
   "outputs": [],
   "source": [
    "def perform_selection():\n",
    "    mins, maxs, means, best = [], [], [], []\n",
    "    individuals = init_population()\n",
    "    while sum(fitness_of_population(individuals))== 0:\n",
    "        individuals = init_population()\n",
    "    fitness_of_pop = fitness_of_population(individuals)\n",
    "    best.append(individuals[np.argmax(fitness_of_pop)])\n",
    "\n",
    "    max = np.max(fitness_of_pop)\n",
    "    mean = np.mean(fitness_of_pop)\n",
    "    min = np.min(fitness_of_pop)\n",
    "\n",
    "    maxs.append(max)\n",
    "    means.append(mean)\n",
    "    mins.append(min)\n",
    "\n",
    "    for i in range(max_gen):\n",
    "        next_gen = mutate(cross(individuals))\n",
    "        individuals = next_gen\n",
    "        fitness_of_pop = fitness_of_population(individuals)\n",
    "        best.append(individuals[np.argmax(fitness_of_pop)])\n",
    "\n",
    "        max = np.max(fitness_of_pop)\n",
    "        mean = np.mean(fitness_of_pop)\n",
    "        min = np.min(fitness_of_pop)\n",
    "\n",
    "        maxs.append(max)\n",
    "        means.append(mean)\n",
    "        mins.append(min)\n",
    "    return mins, maxs, means, best\n"
   ]
  },
  {
   "cell_type": "code",
   "execution_count": 569,
   "metadata": {},
   "outputs": [],
   "source": [
    "mins, maxs, means, best = perform_selection()\n",
    "res = decode(best[-1])\n",
    "res"
   ]
  },
  {
   "cell_type": "code",
   "execution_count": null,
   "metadata": {},
   "outputs": [
    {
     "name": "stdout",
     "output_type": "stream",
     "text": [
      "]\u0011llW \u001eo9]5 4\n"
     ]
    },
    {
     "data": {
      "image/png": "[encoded data removed]",
      "text/plain": [
       "<Figure size 640x480 with 1 Axes>"
      ]
     },
     "metadata": {},
     "output_type": "display_data"
    }
   ],
   "source": [
    "import matplotlib. pyplot as plt\n",
    "plt.plot(maxs)\n",
    "print(decode(best[-1]),f_coded(best[-1]))"
   ]
  }
 ],
 "metadata": {
  "kernelspec": {
   "display_name": "python310PlanSemilla",
   "language": "python",
   "name": "python3"
  },
  "language_info": {
   "codemirror_mode": {
    "name": "ipython",
    "version": 3
   },
   "file_extension": ".py",
   "mimetype": "text/x-python",
   "name": "python",
   "nbconvert_exporter": "python",
   "pygments_lexer": "ipython3",
   "version": "3.10.9"
  },
  "orig_nbformat": 4,
  "vscode": {
   "interpreter": {
    "hash": "15fcd15bea7293a54a10f7149244aa289792f7aa5d2ef97f2942951eecdcfe26"
   }
  }
 },
 "nbformat": 4,
 "nbformat_minor": 2
}
